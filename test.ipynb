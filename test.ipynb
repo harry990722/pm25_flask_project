{
 "cells": [
  {
   "cell_type": "code",
   "execution_count": null,
   "id": "b72bb1cd",
   "metadata": {
    "vscode": {
     "languageId": "plaintext"
    }
   },
   "outputs": [],
   "source": [
    "import pymysql\n"
   ]
  }
 ],
 "metadata": {
  "language_info": {
   "name": "python"
  }
 },
 "nbformat": 4,
 "nbformat_minor": 5
}
